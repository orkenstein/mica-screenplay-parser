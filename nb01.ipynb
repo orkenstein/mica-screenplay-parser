{
 "cells": [
  {
   "cell_type": "code",
   "execution_count": 1,
   "metadata": {},
   "outputs": [],
   "source": [
    "import os\n",
    "import json\n",
    "from collections import Counter\n",
    "import pandas as pd\n",
    "import numpy as np\n",
    "import torch\n",
    "from movieparser.scriptparser import ScriptParser\n",
    "from movieparser.scriptloader import label2id\n",
    "from IPython.display import display\n",
    "from sklearn.metrics import precision_recall_fscore_support, confusion_matrix\n",
    "from tqdm.notebook import tqdm\n",
    "from movieparser.parse_scripts_noindent import parse_lines\n",
    "from movieparser.robust_parser import MovieParser"
   ]
  },
  {
   "cell_type": "code",
   "execution_count": 23,
   "metadata": {},
   "outputs": [],
   "source": [
    "movieparser = MovieParser()"
   ]
  },
  {
   "cell_type": "code",
   "execution_count": 4,
   "metadata": {},
   "outputs": [
    {
     "name": "stdout",
     "output_type": "stream",
     "text": [
      "quiet_place.txt\n",
      "prestige.txt\n",
      "zootopia.txt\n",
      "dead_poets_society.txt\n",
      "joker.txt\n",
      "john_wick.txt\n",
      "sicario.txt\n",
      "avengers_endgame.txt\n"
     ]
    }
   ],
   "source": [
    "files = os.listdir(\"data/SAIL_coref_screenplays/screenplays\")\n",
    "\n",
    "for file in files:\n",
    "    print(file)\n",
    "    script = open(os.path.join(\"data/SAIL_coref_screenplays/screenplays\", file)).read().splitlines(keepends=False)\n",
    "    tags = movieparser.parse(script)\n",
    "    assert len(script) == len(tags)\n",
    "    df = pd.DataFrame()\n",
    "    df[\"text\"] = script\n",
    "    df[\"tag\"] = tags\n",
    "    df.to_csv(os.path.join(\"data/SAIL_coref_screenplays/robust_parsed\", file.replace(\".txt\", \".csv\")), index=False)"
   ]
  },
  {
   "cell_type": "code",
   "execution_count": 5,
   "metadata": {},
   "outputs": [],
   "source": [
    "dfs = []\n",
    "\n",
    "for file in files:\n",
    "    script = open(os.path.join(\"data/SAIL_coref_screenplays/screenplays\", file)).read().splitlines(keepends=False)\n",
    "    tags = parse_lines(script)\n",
    "    df = pd.read_csv(os.path.join(\"data/SAIL_coref_screenplays/robust_parsed\", file.replace(\".txt\", \".csv\")), index_col=None)\n",
    "    df[\"rule\"] = tags\n",
    "    df[\"movie\"] = file.split(\".\")[0]\n",
    "    dfs.append(df)\n",
    "\n",
    "df = pd.concat(dfs)\n",
    "df = df[[\"movie\", \"text\", \"tag\", \"rule\"]]\n",
    "df.to_csv(\"data/SAIL_coref_screenplays/parse.csv\", index=False)"
   ]
  },
  {
   "cell_type": "code",
   "execution_count": 15,
   "metadata": {},
   "outputs": [],
   "source": [
    "result100 = json.load(open(\"results/cross_val/seqlen100_lomo-all_biTrue.json\"))\n",
    "result10 = json.load(open(\"results/cross_val/seqlen10_lomo-all_biTrue.json\"))"
   ]
  },
  {
   "cell_type": "code",
   "execution_count": 19,
   "metadata": {},
   "outputs": [
    {
     "name": "stdout",
     "output_type": "stream",
     "text": [
      "epoch  1: seqlen=10 F1=0.959, seqlen=100 F1=0.809\n",
      "epoch  2: seqlen=10 F1=0.967, seqlen=100 F1=0.915\n",
      "epoch  3: seqlen=10 F1=0.967, seqlen=100 F1=0.945\n",
      "epoch  4: seqlen=10 F1=0.965, seqlen=100 F1=0.957\n",
      "epoch  5: seqlen=10 F1=0.965, seqlen=100 F1=0.961\n",
      "epoch  6: seqlen=10 F1=0.966, seqlen=100 F1=0.964\n",
      "epoch  7: seqlen=10 F1=0.962, seqlen=100 F1=0.967\n",
      "epoch  8: seqlen=10 F1=0.966, seqlen=100 F1=0.966\n",
      "epoch  9: seqlen=10 F1=0.965, seqlen=100 F1=0.968\n",
      "epoch 10: seqlen=10 F1=0.966, seqlen=100 F1=0.968\n"
     ]
    }
   ],
   "source": [
    "for i in range(10):\n",
    "    print(\"epoch {:2d}: seqlen=10 F1={:.3f}, seqlen=100 F1={:.3f}\".format(i + 1, result10[\"epoch_{}\".format(i + 1)][\"1000000\"][\"micro\"][\"f1\"], result100[\"epoch_{}\".format(i + 1)][\"1000000\"][\"micro\"][\"f1\"]))"
   ]
  },
  {
   "cell_type": "code",
   "execution_count": 20,
   "metadata": {},
   "outputs": [],
   "source": [
    "df = pd.read_csv(\"results/data.csv\", index_col=None)"
   ]
  },
  {
   "cell_type": "code",
   "execution_count": 21,
   "metadata": {},
   "outputs": [
    {
     "data": {
      "text/html": [
       "<div>\n",
       "<style scoped>\n",
       "    .dataframe tbody tr th:only-of-type {\n",
       "        vertical-align: middle;\n",
       "    }\n",
       "\n",
       "    .dataframe tbody tr th {\n",
       "        vertical-align: top;\n",
       "    }\n",
       "\n",
       "    .dataframe thead th {\n",
       "        text-align: right;\n",
       "    }\n",
       "</style>\n",
       "<table border=\"1\" class=\"dataframe\">\n",
       "  <thead>\n",
       "    <tr style=\"text-align: right;\">\n",
       "      <th></th>\n",
       "      <th>movie</th>\n",
       "      <th>line_no</th>\n",
       "      <th>text</th>\n",
       "      <th>label</th>\n",
       "      <th>error</th>\n",
       "    </tr>\n",
       "  </thead>\n",
       "  <tbody>\n",
       "    <tr>\n",
       "      <th>0</th>\n",
       "      <td>44_inch_chest</td>\n",
       "      <td>1</td>\n",
       "      <td>out to wear ... whatever combination - it</td>\n",
       "      <td>D</td>\n",
       "      <td>Original</td>\n",
       "    </tr>\n",
       "    <tr>\n",
       "      <th>1</th>\n",
       "      <td>44_inch_chest</td>\n",
       "      <td>2</td>\n",
       "      <td>works! - You look superb! ... And your</td>\n",
       "      <td>D</td>\n",
       "      <td>Original</td>\n",
       "    </tr>\n",
       "    <tr>\n",
       "      <th>2</th>\n",
       "      <td>44_inch_chest</td>\n",
       "      <td>3</td>\n",
       "      <td>underw ear - immac ulate ! 100 % cot ton!</td>\n",
       "      <td>D</td>\n",
       "      <td>Original</td>\n",
       "    </tr>\n",
       "    <tr>\n",
       "      <th>3</th>\n",
       "      <td>44_inch_chest</td>\n",
       "      <td>4</td>\n",
       "      <td>Dazzlin'!... Not like my pinky grey-y</td>\n",
       "      <td>D</td>\n",
       "      <td>Original</td>\n",
       "    </tr>\n",
       "    <tr>\n",
       "      <th>4</th>\n",
       "      <td>44_inch_chest</td>\n",
       "      <td>5</td>\n",
       "      <td>things! Nah, you've just got it - good at</td>\n",
       "      <td>D</td>\n",
       "      <td>Original</td>\n",
       "    </tr>\n",
       "    <tr>\n",
       "      <th>...</th>\n",
       "      <td>...</td>\n",
       "      <td>...</td>\n",
       "      <td>...</td>\n",
       "      <td>...</td>\n",
       "      <td>...</td>\n",
       "    </tr>\n",
       "    <tr>\n",
       "      <th>224255</th>\n",
       "      <td>xmen</td>\n",
       "      <td>298</td>\n",
       "      <td>47     Now if youll excuse me...  I have a     33</td>\n",
       "      <td>D</td>\n",
       "      <td>NoEmptyLines+DialogueExpressions</td>\n",
       "    </tr>\n",
       "    <tr>\n",
       "      <th>224256</th>\n",
       "      <td>xmen</td>\n",
       "      <td>299</td>\n",
       "      <td>train to catch.</td>\n",
       "      <td>D</td>\n",
       "      <td>NoEmptyLines+DialogueExpressions</td>\n",
       "    </tr>\n",
       "    <tr>\n",
       "      <th>224257</th>\n",
       "      <td>xmen</td>\n",
       "      <td>300</td>\n",
       "      <td>73     EH     4</td>\n",
       "      <td>M</td>\n",
       "      <td>NoEmptyLines+DialogueExpressions</td>\n",
       "    </tr>\n",
       "    <tr>\n",
       "      <th>224258</th>\n",
       "      <td>xmen</td>\n",
       "      <td>301</td>\n",
       "      <td>88     train - night     74</td>\n",
       "      <td>S</td>\n",
       "      <td>NoEmptyLines+DialogueExpressions</td>\n",
       "    </tr>\n",
       "    <tr>\n",
       "      <th>224259</th>\n",
       "      <td>xmen</td>\n",
       "      <td>302</td>\n",
       "      <td>93     E     71</td>\n",
       "      <td>M</td>\n",
       "      <td>NoEmptyLines+DialogueExpressions</td>\n",
       "    </tr>\n",
       "  </tbody>\n",
       "</table>\n",
       "<p>224260 rows × 5 columns</p>\n",
       "</div>"
      ],
      "text/plain": [
       "                movie  line_no  \\\n",
       "0       44_inch_chest        1   \n",
       "1       44_inch_chest        2   \n",
       "2       44_inch_chest        3   \n",
       "3       44_inch_chest        4   \n",
       "4       44_inch_chest        5   \n",
       "...               ...      ...   \n",
       "224255           xmen      298   \n",
       "224256           xmen      299   \n",
       "224257           xmen      300   \n",
       "224258           xmen      301   \n",
       "224259           xmen      302   \n",
       "\n",
       "                                                     text label  \\\n",
       "0               out to wear ... whatever combination - it     D   \n",
       "1                  works! - You look superb! ... And your     D   \n",
       "2               underw ear - immac ulate ! 100 % cot ton!     D   \n",
       "3                   Dazzlin'!... Not like my pinky grey-y     D   \n",
       "4               things! Nah, you've just got it - good at     D   \n",
       "...                                                   ...   ...   \n",
       "224255  47     Now if youll excuse me...  I have a     33     D   \n",
       "224256                                    train to catch.     D   \n",
       "224257                                    73     EH     4     M   \n",
       "224258                        88     train - night     74     S   \n",
       "224259                                    93     E     71     M   \n",
       "\n",
       "                                   error  \n",
       "0                               Original  \n",
       "1                               Original  \n",
       "2                               Original  \n",
       "3                               Original  \n",
       "4                               Original  \n",
       "...                                  ...  \n",
       "224255  NoEmptyLines+DialogueExpressions  \n",
       "224256  NoEmptyLines+DialogueExpressions  \n",
       "224257  NoEmptyLines+DialogueExpressions  \n",
       "224258  NoEmptyLines+DialogueExpressions  \n",
       "224259  NoEmptyLines+DialogueExpressions  \n",
       "\n",
       "[224260 rows x 5 columns]"
      ]
     },
     "execution_count": 21,
     "metadata": {},
     "output_type": "execute_result"
    }
   ],
   "source": [
    "df"
   ]
  },
  {
   "cell_type": "code",
   "execution_count": 24,
   "metadata": {},
   "outputs": [
    {
     "name": "stdout",
     "output_type": "stream",
     "text": [
      "pandorum.txt 7891 7891\n",
      "stuntman_the.txt 7957 7957\n",
      "willow.txt 6009 6009\n",
      "extract.txt 6305 6305\n",
      "broken_embraces.txt 13227 13227\n",
      "men_in_black_3.txt 6041 6041\n",
      "mirrors.txt 6594 6594\n",
      "up_in_the_air.txt 6235 6235\n",
      "gamer.txt 6473 6473\n",
      "grosse_pointe_blank.txt 5117 5117\n",
      "machete.txt 4736 4736\n",
      "man_who_knew_too_much_the.txt 9591 9591\n",
      "i_am_number_four.txt 6363 6363\n",
      "dry_white_season_a.txt 8810 8810\n",
      "nine.txt 5497 5497\n",
      "shawshank_redemption_the.txt 6503 6503\n",
      "bodyguard.txt 6940 6940\n",
      "custody.txt 5499 5499\n",
      "spartan.txt 7537 7537\n",
      "xmen.txt 6461 6461\n",
      "up.txt 7765 7765\n",
      "flight.txt 8126 8126\n",
      "american_psycho.txt 5374 5374\n",
      "burn_after_reading.txt 6786 6786\n",
      "changeling.txt 8118 8118\n",
      "strange_days.txt 7616 7616\n",
      "true_romance.txt 5629 5629\n",
      "wolf_of_wall_street_the.txt 8014 8014\n",
      "star_trek_01_the_motion_picture.txt 7421 7421\n",
      "event_horizon.txt 6515 6515\n",
      "lord_of_the_rings_fellowship_of.txt 6949 6949\n",
      "suspect_zero.txt 6968 6968\n",
      "kids.txt 3745 3745\n",
      "bounty_hunter_the.txt 6410 6410\n",
      "memento.txt 7911 7911\n",
      "basic_instinct.txt 5895 5895\n",
      "candle_to_water.txt 4852 4852\n",
      "44_inch_chest.txt 5580 5580\n",
      "petulia.txt 6475 6475\n"
     ]
    }
   ],
   "source": [
    "files = os.listdir(\"data/SAIL_annotation_screenplays/screenplays\")\n",
    "\n",
    "for file in files:\n",
    "    script = open(os.path.join(\"data/SAIL_annotation_screenplays/screenplays\", file)).read().splitlines()\n",
    "    parsed_file = os.path.join(\"data/SAIL_annotation_screenplays/parsed-robust-screenplays\", file.replace(\".txt\", \"_tags.txt\"))\n",
    "    tags = movieparser.parse(script)\n",
    "    open(parsed_file, \"w\").write(\"\\n\".join(tags))\n",
    "    print(file, len(script), len(tags))"
   ]
  },
  {
   "cell_type": "code",
   "execution_count": null,
   "metadata": {},
   "outputs": [],
   "source": []
  }
 ],
 "metadata": {
  "interpreter": {
   "hash": "f5564179601506aeb95cf6cc4564b3643cb454b7efe538118302bd7189552ad0"
  },
  "kernelspec": {
   "display_name": "Python 3.8.13 ('parser')",
   "language": "python",
   "name": "python3"
  },
  "language_info": {
   "codemirror_mode": {
    "name": "ipython",
    "version": 3
   },
   "file_extension": ".py",
   "mimetype": "text/x-python",
   "name": "python",
   "nbconvert_exporter": "python",
   "pygments_lexer": "ipython3",
   "version": "3.8.13"
  },
  "orig_nbformat": 4
 },
 "nbformat": 4,
 "nbformat_minor": 2
}
