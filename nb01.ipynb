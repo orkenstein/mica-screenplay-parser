{
 "cells": [
  {
   "cell_type": "code",
   "execution_count": 5,
   "metadata": {},
   "outputs": [],
   "source": [
    "import os\n",
    "import pandas as pd\n",
    "import torch\n",
    "from movieparser.scriptparser import ScriptParser\n",
    "from movieparser.scriptloader import label2id\n",
    "from IPython.display import display\n",
    "from sklearn.metrics import precision_recall_fscore_support, confusion_matrix\n",
    "from tqdm.notebook import tqdm\n",
    "from movieparser.parse_scripts_noindent import parse_lines"
   ]
  },
  {
   "cell_type": "code",
   "execution_count": 2,
   "metadata": {},
   "outputs": [
    {
     "data": {
      "text/html": [
       "<div>\n",
       "<style scoped>\n",
       "    .dataframe tbody tr th:only-of-type {\n",
       "        vertical-align: middle;\n",
       "    }\n",
       "\n",
       "    .dataframe tbody tr th {\n",
       "        vertical-align: top;\n",
       "    }\n",
       "\n",
       "    .dataframe thead th {\n",
       "        text-align: right;\n",
       "    }\n",
       "</style>\n",
       "<table border=\"1\" class=\"dataframe\">\n",
       "  <thead>\n",
       "    <tr style=\"text-align: right;\">\n",
       "      <th></th>\n",
       "      <th>movie</th>\n",
       "      <th>line_no</th>\n",
       "      <th>text</th>\n",
       "      <th>label</th>\n",
       "      <th>error</th>\n",
       "    </tr>\n",
       "  </thead>\n",
       "  <tbody>\n",
       "    <tr>\n",
       "      <th>0</th>\n",
       "      <td>44_inch_chest</td>\n",
       "      <td>1</td>\n",
       "      <td>out to wear ... whatever combination - it</td>\n",
       "      <td>D</td>\n",
       "      <td>NONE</td>\n",
       "    </tr>\n",
       "    <tr>\n",
       "      <th>1</th>\n",
       "      <td>44_inch_chest</td>\n",
       "      <td>2</td>\n",
       "      <td>works! - You look superb! ... And your</td>\n",
       "      <td>D</td>\n",
       "      <td>NONE</td>\n",
       "    </tr>\n",
       "    <tr>\n",
       "      <th>2</th>\n",
       "      <td>44_inch_chest</td>\n",
       "      <td>3</td>\n",
       "      <td>underw ear - immac ulate ! 100 % cot ton!</td>\n",
       "      <td>D</td>\n",
       "      <td>NONE</td>\n",
       "    </tr>\n",
       "    <tr>\n",
       "      <th>3</th>\n",
       "      <td>44_inch_chest</td>\n",
       "      <td>4</td>\n",
       "      <td>Dazzlin'!... Not like my pinky grey-y</td>\n",
       "      <td>D</td>\n",
       "      <td>NONE</td>\n",
       "    </tr>\n",
       "    <tr>\n",
       "      <th>4</th>\n",
       "      <td>44_inch_chest</td>\n",
       "      <td>5</td>\n",
       "      <td>things! Nah, you've just got it - good at</td>\n",
       "      <td>D</td>\n",
       "      <td>NONE</td>\n",
       "    </tr>\n",
       "  </tbody>\n",
       "</table>\n",
       "</div>"
      ],
      "text/plain": [
       "           movie  line_no                                       text label  \\\n",
       "0  44_inch_chest        1  out to wear ... whatever combination - it     D   \n",
       "1  44_inch_chest        2     works! - You look superb! ... And your     D   \n",
       "2  44_inch_chest        3  underw ear - immac ulate ! 100 % cot ton!     D   \n",
       "3  44_inch_chest        4      Dazzlin'!... Not like my pinky grey-y     D   \n",
       "4  44_inch_chest        5  things! Nah, you've just got it - good at     D   \n",
       "\n",
       "  error  \n",
       "0  NONE  \n",
       "1  NONE  \n",
       "2  NONE  \n",
       "3  NONE  \n",
       "4  NONE  "
      ]
     },
     "metadata": {},
     "output_type": "display_data"
    }
   ],
   "source": [
    "parser = ScriptParser(38, len(label2id), False)\n",
    "parser.load_state_dict(torch.load(\"results/saved_models/epoch1.pt\"))\n",
    "df = pd.read_csv(\"results/data.csv\", index_col=None)\n",
    "display(df.head())\n",
    "parser.to(0);"
   ]
  },
  {
   "cell_type": "code",
   "execution_count": 6,
   "metadata": {},
   "outputs": [
    {
     "data": {
      "application/vnd.jupyter.widget-view+json": {
       "model_id": "abb85fa9fe9c4b8690531fb3c4c56722",
       "version_major": 2,
       "version_minor": 0
      },
      "text/plain": [
       "  0%|          | 0/8 [00:00<?, ?it/s]"
      ]
     },
     "metadata": {},
     "output_type": "display_data"
    }
   ],
   "source": [
    "files = os.listdir(\"data/SAIL_coref_screenplays/screenplays\")\n",
    "scripts = []\n",
    "\n",
    "for file in files:\n",
    "    script = []\n",
    "    lines = open(os.path.join(\"data/SAIL_coref_screenplays/screenplays\", file)).readlines()\n",
    "    \n",
    "    i = 0\n",
    "    while i < len(lines):\n",
    "        line = lines[i].strip()\n",
    "        if len(line) == 0:\n",
    "            j = i + 1\n",
    "            while j < len(lines) and len(lines[j].strip()) == 0:\n",
    "                j += 1\n",
    "            if j < len(lines):\n",
    "                script.append(\"\")\n",
    "                script.append(lines[j].strip())\n",
    "            i = j + 1\n",
    "        else:\n",
    "            script.append(line)\n",
    "            i += 1\n",
    "\n",
    "    scripts.append(script)\n",
    "\n",
    "for file, script in tqdm(zip(files, scripts), total=len(files)):\n",
    "    movie = file.split(\"/\")[-1].split(\".\")[0]\n",
    "    parsed_file = os.path.join(\"data/SAIL_coref_screenplays/robust_parsed\", movie + \".csv\")\n",
    "    # tags = parser.parse(script)\n",
    "    tags = parse_lines(script)\n",
    "    df = pd.DataFrame()\n",
    "    df[\"text\"] = script\n",
    "    df[\"tags\"] = tags\n",
    "    df.to_csv(parsed_file, index=False)"
   ]
  },
  {
   "cell_type": "code",
   "execution_count": 7,
   "metadata": {},
   "outputs": [
    {
     "data": {
      "text/html": [
       "<div>\n",
       "<style scoped>\n",
       "    .dataframe tbody tr th:only-of-type {\n",
       "        vertical-align: middle;\n",
       "    }\n",
       "\n",
       "    .dataframe tbody tr th {\n",
       "        vertical-align: top;\n",
       "    }\n",
       "\n",
       "    .dataframe thead th {\n",
       "        text-align: right;\n",
       "    }\n",
       "</style>\n",
       "<table border=\"1\" class=\"dataframe\">\n",
       "  <thead>\n",
       "    <tr style=\"text-align: right;\">\n",
       "      <th></th>\n",
       "      <th>movie</th>\n",
       "      <th>line_no</th>\n",
       "      <th>text</th>\n",
       "      <th>label</th>\n",
       "      <th>error</th>\n",
       "    </tr>\n",
       "  </thead>\n",
       "  <tbody>\n",
       "    <tr>\n",
       "      <th>0</th>\n",
       "      <td>44_inch_chest</td>\n",
       "      <td>1</td>\n",
       "      <td>out to wear ... whatever combination - it</td>\n",
       "      <td>D</td>\n",
       "      <td>Original</td>\n",
       "    </tr>\n",
       "    <tr>\n",
       "      <th>1</th>\n",
       "      <td>44_inch_chest</td>\n",
       "      <td>2</td>\n",
       "      <td>works! - You look superb! ... And your</td>\n",
       "      <td>D</td>\n",
       "      <td>Original</td>\n",
       "    </tr>\n",
       "    <tr>\n",
       "      <th>2</th>\n",
       "      <td>44_inch_chest</td>\n",
       "      <td>3</td>\n",
       "      <td>underw ear - immac ulate ! 100 % cot ton!</td>\n",
       "      <td>D</td>\n",
       "      <td>Original</td>\n",
       "    </tr>\n",
       "    <tr>\n",
       "      <th>3</th>\n",
       "      <td>44_inch_chest</td>\n",
       "      <td>4</td>\n",
       "      <td>Dazzlin'!... Not like my pinky grey-y</td>\n",
       "      <td>D</td>\n",
       "      <td>Original</td>\n",
       "    </tr>\n",
       "    <tr>\n",
       "      <th>4</th>\n",
       "      <td>44_inch_chest</td>\n",
       "      <td>5</td>\n",
       "      <td>things! Nah, you've just got it - good at</td>\n",
       "      <td>D</td>\n",
       "      <td>Original</td>\n",
       "    </tr>\n",
       "  </tbody>\n",
       "</table>\n",
       "</div>"
      ],
      "text/plain": [
       "           movie  line_no                                       text label  \\\n",
       "0  44_inch_chest        1  out to wear ... whatever combination - it     D   \n",
       "1  44_inch_chest        2     works! - You look superb! ... And your     D   \n",
       "2  44_inch_chest        3  underw ear - immac ulate ! 100 % cot ton!     D   \n",
       "3  44_inch_chest        4      Dazzlin'!... Not like my pinky grey-y     D   \n",
       "4  44_inch_chest        5  things! Nah, you've just got it - good at     D   \n",
       "\n",
       "      error  \n",
       "0  Original  \n",
       "1  Original  \n",
       "2  Original  \n",
       "3  Original  \n",
       "4  Original  "
      ]
     },
     "metadata": {},
     "output_type": "display_data"
    },
    {
     "name": "stdout",
     "output_type": "stream",
     "text": [
      "702 (movie, error) groups\n"
     ]
    }
   ],
   "source": [
    "df = pd.read_csv(\"results/data.csv\", index_col=None)\n",
    "display(df.head())\n",
    "groups = df.groupby([\"movie\",\"error\"])\n",
    "print(f\"{groups.ngroups} (movie, error) groups\")"
   ]
  },
  {
   "cell_type": "code",
   "execution_count": 8,
   "metadata": {},
   "outputs": [
    {
     "data": {
      "text/plain": [
       "224260"
      ]
     },
     "execution_count": 8,
     "metadata": {},
     "output_type": "execute_result"
    }
   ],
   "source": [
    "len(df)"
   ]
  },
  {
   "cell_type": "code",
   "execution_count": 11,
   "metadata": {},
   "outputs": [
    {
     "data": {
      "text/plain": [
       "array([251, 301, 251, 310, 251, 251, 251, 251, 301, 300, 364, 300, 378,\n",
       "       300, 300, 300, 300, 364, 251, 297, 251, 312, 251, 251, 251, 251,\n",
       "       297, 344, 422, 344, 435, 344, 344, 344, 344, 422, 250, 296, 250,\n",
       "       310, 250, 250, 250, 250, 296, 334, 394, 334, 406, 334, 334, 334,\n",
       "       334, 394, 251, 306, 251, 312, 251, 251, 251, 251, 306, 276, 339,\n",
       "       276, 349, 276, 276, 276, 276, 339, 251, 302, 251, 307, 251, 251,\n",
       "       251, 251, 302, 372, 443, 372, 453, 372, 372, 372, 372, 443, 251,\n",
       "       298, 251, 310, 251, 251, 251, 251, 298, 338, 410, 338, 416, 338,\n",
       "       338, 338, 338, 410, 250, 290, 250, 299, 250, 250, 250, 250, 290,\n",
       "       381, 452, 381, 460, 381, 381, 381, 381, 452, 250, 296, 250, 302,\n",
       "       250, 250, 250, 250, 296, 394, 482, 394, 492, 394, 394, 394, 394,\n",
       "       482, 250, 302, 250, 322, 250, 250, 250, 250, 302, 338, 398, 338,\n",
       "       409, 338, 338, 338, 338, 398, 251, 298, 251, 303, 251, 251, 251,\n",
       "       251, 298, 367, 434, 367, 444, 367, 367, 367, 367, 434, 251, 308,\n",
       "       251, 320, 251, 251, 251, 251, 308, 287, 344, 287, 351, 287, 287,\n",
       "       287, 287, 344, 251, 302, 251, 312, 251, 251, 251, 251, 302, 360,\n",
       "       438, 360, 446, 360, 360, 360, 360, 438, 251, 295, 251, 308, 251,\n",
       "       251, 251, 251, 295, 342, 411, 342, 428, 342, 342, 342, 342, 411,\n",
       "       250, 312, 250, 326, 250, 250, 250, 250, 312, 349, 433, 349, 441,\n",
       "       349, 349, 349, 349, 433, 251, 310, 251, 316, 251, 251, 251, 251,\n",
       "       310, 350, 421, 350, 428, 350, 350, 350, 350, 421, 250, 291, 250,\n",
       "       298, 250, 250, 250, 250, 291, 365, 438, 365, 445, 365, 365, 365,\n",
       "       365, 438, 250, 309, 250, 316, 250, 250, 250, 250, 309, 327, 404,\n",
       "       327, 419, 327, 327, 327, 327, 404, 251, 311, 251, 317, 251, 251,\n",
       "       251, 251, 311, 409, 502, 409, 509, 409, 409, 409, 409, 502, 251,\n",
       "       297, 251, 304, 251, 251, 251, 251, 297, 366, 427, 366, 435, 366,\n",
       "       366, 366, 366, 427, 250, 299, 250, 309, 250, 250, 250, 250, 299,\n",
       "       374, 458, 374, 469, 374, 374, 374, 374, 458, 251, 293, 251, 303,\n",
       "       251, 251, 251, 251, 293, 356, 433, 356, 446, 356, 356, 356, 356,\n",
       "       433, 250, 301, 250, 311, 250, 250, 250, 250, 301, 357, 427, 357,\n",
       "       435, 357, 357, 357, 357, 427, 251, 308, 251, 323, 251, 251, 251,\n",
       "       251, 308, 325, 403, 325, 409, 325, 325, 325, 325, 403, 251, 308,\n",
       "       251, 320, 251, 251, 251, 251, 308, 375, 434, 375, 444, 375, 375,\n",
       "       375, 375, 434, 251, 301, 251, 311, 251, 251, 251, 251, 301, 338,\n",
       "       413, 338, 420, 338, 338, 338, 338, 413, 251, 293, 251, 301, 251,\n",
       "       251, 251, 251, 293, 336, 402, 336, 411, 336, 336, 336, 336, 402,\n",
       "       251, 306, 251, 315, 251, 251, 251, 251, 306, 335, 411, 335, 420,\n",
       "       335, 335, 335, 335, 411, 251, 311, 251, 321, 251, 251, 251, 251,\n",
       "       311, 347, 415, 347, 425, 347, 347, 347, 347, 415, 251, 313, 251,\n",
       "       318, 251, 251, 251, 251, 313, 326, 391, 326, 398, 326, 326, 326,\n",
       "       326, 391, 251, 300, 251, 307, 251, 251, 251, 251, 300, 333, 398,\n",
       "       333, 405, 333, 333, 333, 333, 398, 250, 304, 250, 313, 250, 250,\n",
       "       250, 250, 304, 321, 384, 321, 392, 321, 321, 321, 321, 384, 251,\n",
       "       300, 251, 316, 251, 251, 251, 251, 300, 330, 399, 330, 405, 330,\n",
       "       330, 330, 330, 399, 250, 301, 250, 305, 250, 250, 250, 250, 301,\n",
       "       375, 458, 375, 460, 375, 375, 375, 375, 458, 250, 297, 250, 311,\n",
       "       250, 250, 250, 250, 297, 358, 437, 358, 456, 358, 358, 358, 358,\n",
       "       437, 251, 296, 251, 309, 251, 251, 251, 251, 296, 346, 410, 346,\n",
       "       417, 346, 346, 346, 346, 410, 233, 275, 233, 288, 233, 233, 233,\n",
       "       233, 275, 325, 397, 325, 410, 325, 325, 325, 325, 397, 251, 308,\n",
       "       251, 313, 251, 251, 251, 251, 308, 343, 405, 343, 411, 343, 343,\n",
       "       343, 343, 405, 251, 310, 251, 325, 251, 251, 251, 251, 310, 323,\n",
       "       390, 323, 407, 323, 323, 323, 323, 390, 250, 295, 250, 302, 250,\n",
       "       250, 250, 250, 295, 368, 445, 368, 451, 368, 368, 368, 368, 445])"
      ]
     },
     "execution_count": 11,
     "metadata": {},
     "output_type": "execute_result"
    }
   ],
   "source": [
    "df.groupby([\"movie\", \"error\"]).agg(len).text.values"
   ]
  },
  {
   "cell_type": "code",
   "execution_count": 14,
   "metadata": {},
   "outputs": [
    {
     "data": {
      "text/plain": [
       "array(['Original', 'Original+NameContainsSceneKeyword',\n",
       "       'Original+NameContainsTransitionKeyword',\n",
       "       'Original+SceneHeaderKeywordRemoved',\n",
       "       'Original+SceneHeaderLowercased',\n",
       "       'Original+CharacterNameLowercased', 'Original+Watermark',\n",
       "       'Original+AsterisksNumbers', 'Original+DialogueExpressions',\n",
       "       'NoEmptyLines', 'NoEmptyLines+NameContainsSceneKeyword',\n",
       "       'NoEmptyLines+NameContainsTransitionKeyword',\n",
       "       'NoEmptyLines+SceneHeaderKeywordRemoved',\n",
       "       'NoEmptyLines+SceneHeaderLowercased',\n",
       "       'NoEmptyLines+CharacterNameLowercased', 'NoEmptyLines+Watermark',\n",
       "       'NoEmptyLines+AsterisksNumbers',\n",
       "       'NoEmptyLines+DialogueExpressions'], dtype=object)"
      ]
     },
     "execution_count": 14,
     "metadata": {},
     "output_type": "execute_result"
    }
   ],
   "source": [
    "df[\"error\"].unique()"
   ]
  },
  {
   "cell_type": "code",
   "execution_count": 18,
   "metadata": {},
   "outputs": [],
   "source": [
    "for text in df[\"text\"].fillna(\"\").unique():\n",
    "    if not isinstance(text, str):\n",
    "        print(text)"
   ]
  },
  {
   "cell_type": "code",
   "execution_count": 22,
   "metadata": {},
   "outputs": [],
   "source": [
    "feats_df = pd.read_csv(\"results/feats.csv\", index_col=None).fillna(\"\")"
   ]
  },
  {
   "cell_type": "code",
   "execution_count": 23,
   "metadata": {},
   "outputs": [
    {
     "data": {
      "text/plain": [
       "1"
      ]
     },
     "execution_count": 23,
     "metadata": {},
     "output_type": "execute_result"
    }
   ],
   "source": [
    "(feats_df.text == \"\").sum()"
   ]
  },
  {
   "cell_type": "code",
   "execution_count": 26,
   "metadata": {},
   "outputs": [
    {
     "name": "stdout",
     "output_type": "stream",
     "text": [
      "39258\n",
      "29912\n"
     ]
    }
   ],
   "source": [
    "print((df[\"label\"] == \"O\").sum())\n",
    "print(((df[\"label\"] == \"O\") & df[\"text\"].isna()).sum())"
   ]
  },
  {
   "cell_type": "code",
   "execution_count": null,
   "metadata": {},
   "outputs": [],
   "source": []
  }
 ],
 "metadata": {
  "interpreter": {
   "hash": "f5564179601506aeb95cf6cc4564b3643cb454b7efe538118302bd7189552ad0"
  },
  "kernelspec": {
   "display_name": "Python 3.8.13 ('parser')",
   "language": "python",
   "name": "python3"
  },
  "language_info": {
   "codemirror_mode": {
    "name": "ipython",
    "version": 3
   },
   "file_extension": ".py",
   "mimetype": "text/x-python",
   "name": "python",
   "nbconvert_exporter": "python",
   "pygments_lexer": "ipython3",
   "version": "3.8.13"
  },
  "orig_nbformat": 4
 },
 "nbformat": 4,
 "nbformat_minor": 2
}
